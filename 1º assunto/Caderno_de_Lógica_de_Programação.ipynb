{
  "nbformat": 4,
  "nbformat_minor": 0,
  "metadata": {
    "colab": {
      "name": "Caderno de Lógica de Programação.ipynb",
      "provenance": []
    },
    "kernelspec": {
      "name": "python3",
      "display_name": "Python 3"
    },
    "language_info": {
      "name": "python"
    }
  },
  "cells": [
    {
      "cell_type": "markdown",
      "metadata": {
        "id": "0UK48tvn5m1G"
      },
      "source": [
        "#Lógica de Programação para Engenharia Elétrica\n",
        "\n",
        "Este caderno contém alguns **exemplos** e **práticas** da primeira parte do curso de lógica programação."
      ]
    },
    {
      "cell_type": "markdown",
      "metadata": {
        "id": "uqz_4vwO6OLy"
      },
      "source": [
        "##Códigos fontes\n",
        "\n",
        "A seguir, tem-se os os fontes das primeiras práticas."
      ]
    },
    {
      "cell_type": "markdown",
      "metadata": {
        "id": "4tKsP2gS6nyS"
      },
      "source": [
        "###Exemplo\n",
        "Estrutura básica de um programa no Portugol Studio:\n",
        "\n"
      ]
    },
    {
      "cell_type": "code",
      "metadata": {
        "colab": {
          "base_uri": "https://localhost:8080/",
          "height": 675
        },
        "id": "24lismCv5hrW",
        "outputId": "95335a0b-09bd-446f-f9fa-038ea478ee1f"
      },
      "source": [
        "%%html\n",
        "<iframe\n",
        "  width=\"50%\" height=\"650px\"\n",
        "  src=\"https://portugol-webstudio.cubos.io/ide#url=https://raw.githubusercontent.com/StelmoNetto/IPEE/main/1º%20assunto/1%20-%20primeiroProg.por\"\n",
        "  />"
      ],
      "execution_count": 4,
      "outputs": [
        {
          "output_type": "display_data",
          "data": {
            "text/html": [
              "<iframe\n",
              "  width=\"50%\" height=\"650px\"\n",
              "  src=\"https://portugol-webstudio.cubos.io/ide#url=https://raw.githubusercontent.com/StelmoNetto/IPEE/main/1º%20assunto/1%20-%20primeiroProg.por\"\n",
              "  />"
            ],
            "text/plain": [
              "<IPython.core.display.HTML object>"
            ]
          },
          "metadata": {}
        }
      ]
    },
    {
      "cell_type": "markdown",
      "metadata": {
        "id": "foXINdKP7cbZ"
      },
      "source": [
        "###Exemplo\n",
        "\n",
        "Com Entrada e Saída:"
      ]
    },
    {
      "cell_type": "code",
      "metadata": {
        "colab": {
          "base_uri": "https://localhost:8080/",
          "height": 725
        },
        "id": "BAhd-zGE7i7l",
        "outputId": "fee075ef-7d80-4243-e952-d778f39a6806"
      },
      "source": [
        "%%html\n",
        "<iframe\n",
        "  width=\"75%\" height=\"700px\"\n",
        "  src=\"https://portugol-webstudio.cubos.io/ide#url=https://raw.githubusercontent.com/StelmoNetto/IPEE/main/1º%20assunto/2%20-%20primeiroProgComES.por\"\n",
        "  />"
      ],
      "execution_count": 6,
      "outputs": [
        {
          "output_type": "display_data",
          "data": {
            "text/html": [
              "<iframe\n",
              "  width=\"75%\" height=\"700px\"\n",
              "  src=\"https://portugol-webstudio.cubos.io/ide#url=https://raw.githubusercontent.com/StelmoNetto/IPEE/main/1º%20assunto/2%20-%20primeiroProgComES.por\"\n",
              "  />"
            ],
            "text/plain": [
              "<IPython.core.display.HTML object>"
            ]
          },
          "metadata": {}
        }
      ]
    },
    {
      "cell_type": "markdown",
      "metadata": {
        "id": "Kb4wSXCr77jv"
      },
      "source": [
        "###Prática\n",
        "\n",
        "Crie um programa em diagrama de blocos (use o www.draw.io ou seu caderno de papel) e portugol que receba dois valores reais A e B e troque o conteúdo de A por B e de B por A e exiba a troca.\n",
        "\n",
        "Versão **sem entrada** pelo teclado:"
      ]
    },
    {
      "cell_type": "code",
      "metadata": {
        "colab": {
          "base_uri": "https://localhost:8080/",
          "height": 525
        },
        "id": "KP41Yx-h8XGR",
        "outputId": "a71ccd30-ceb5-4f13-8b60-941273bbefcf"
      },
      "source": [
        "%%html\n",
        "<iframe\n",
        "  width=\"50%\" height=\"500px\"\n",
        "  src=\"https://portugol-webstudio.cubos.io/ide#url=https://raw.githubusercontent.com/StelmoNetto/IPEE/main/1º%20assunto/3%20-%20trocaVal2.por\"\n",
        "  />"
      ],
      "execution_count": 9,
      "outputs": [
        {
          "output_type": "display_data",
          "data": {
            "text/html": [
              "<iframe\n",
              "  width=\"50%\" height=\"500px\"\n",
              "  src=\"https://portugol-webstudio.cubos.io/ide#url=https://raw.githubusercontent.com/StelmoNetto/IPEE/main/1º%20assunto/3%20-%20trocaVal2.por\"\n",
              "  />"
            ],
            "text/plain": [
              "<IPython.core.display.HTML object>"
            ]
          },
          "metadata": {}
        }
      ]
    },
    {
      "cell_type": "markdown",
      "metadata": {
        "id": "ZyMUO3vG9WDj"
      },
      "source": [
        "###Prática\n",
        "\n",
        "Crie um programa em diagrama de blocos (use o www.draw.io ou seu caderno de papel) e portugol que receba dois valores reais A e B e troque o conteúdo de A por B e de B por A e exiba a troca.\n",
        "\n",
        "Versão **com entrada** pelo teclado:"
      ]
    },
    {
      "cell_type": "code",
      "metadata": {
        "colab": {
          "base_uri": "https://localhost:8080/",
          "height": 675
        },
        "id": "ONbQLyBS9WDn",
        "outputId": "88ac7aed-e81d-4ec7-917a-114bc722f841"
      },
      "source": [
        "%%html\n",
        "<iframe\n",
        "  width=\"50%\" height=\"650px\"\n",
        "  src=\"https://portugol-webstudio.cubos.io/ide#url=https://raw.githubusercontent.com/StelmoNetto/IPEE/main/1º%20assunto/3%20-%20trocaValores.por\"\n",
        "  />"
      ],
      "execution_count": 12,
      "outputs": [
        {
          "output_type": "display_data",
          "data": {
            "text/html": [
              "<iframe\n",
              "  width=\"50%\" height=\"650px\"\n",
              "  src=\"https://portugol-webstudio.cubos.io/ide#url=https://raw.githubusercontent.com/StelmoNetto/IPEE/main/1º%20assunto/3%20-%20trocaValores.por\"\n",
              "  />"
            ],
            "text/plain": [
              "<IPython.core.display.HTML object>"
            ]
          },
          "metadata": {}
        }
      ]
    },
    {
      "cell_type": "markdown",
      "metadata": {
        "id": "W3n169is-IP4"
      },
      "source": [
        "###Exemplo de Construção de algoritmos\n",
        "\n",
        "**Problema**: Resolva a soma de 2 números.\n",
        "* Passos para a resolução do problema:\n",
        "  * Saber resolver o problema no dia-a-dia;\n",
        "    * Deve-se pesquisar pelas equações ou regras relacionadas ao problema\n",
        "  * Reconhecer as entradas (dados) em termos de variáveis e seus tipos;\n",
        "  * Saber o que deseja-se encontrar (Respostas ou saídas) em termos de variáveis e seus tipos;\n",
        "  * Através da resolução do problema no cotidiano, encontrar os passos necessários para transformar os dados de entrada na(s) saída(s) desejada(s) (cálculos ou processamento)\n"
      ]
    },
    {
      "cell_type": "code",
      "metadata": {
        "colab": {
          "base_uri": "https://localhost:8080/",
          "height": 625
        },
        "id": "vN32DGMj_DbM",
        "outputId": "326707b4-9e01-4d59-b096-54454f95173f"
      },
      "source": [
        "%%html\n",
        "<iframe\n",
        "  width=\"50%\" height=\"600px\"\n",
        "  src=\"https://portugol-webstudio.cubos.io/ide#url=https://raw.githubusercontent.com/StelmoNetto/IPEE/main/1º%20assunto/3_2%20-%20soma.por\"\n",
        "  />"
      ],
      "execution_count": 14,
      "outputs": [
        {
          "output_type": "display_data",
          "data": {
            "text/html": [
              "<iframe\n",
              "  width=\"50%\" height=\"600px\"\n",
              "  src=\"https://portugol-webstudio.cubos.io/ide#url=https://raw.githubusercontent.com/StelmoNetto/IPEE/main/1º%20assunto/3_2%20-%20soma.por\"\n",
              "  />"
            ],
            "text/plain": [
              "<IPython.core.display.HTML object>"
            ]
          },
          "metadata": {}
        }
      ]
    },
    {
      "cell_type": "markdown",
      "metadata": {
        "id": "B0TyG8hU_fc_"
      },
      "source": [
        "###Exemplo de Construção de algoritmos\n",
        "\n",
        "**Problema**: Sabe-se que o valor de cada 1.000 litros de água corresponde a 2% do salário mínimo. Faça um algoritmo que receba o valor do salário mínimo e a quantidade de água consumida em uma residência por mês. Em seguida, calcule e mostre:\n",
        "* O valor da conta de água.\n",
        "* O valor da conta de água a ser pago com um desconto qualquer.\n",
        "\n",
        "\n"
      ]
    },
    {
      "cell_type": "code",
      "metadata": {
        "colab": {
          "base_uri": "https://localhost:8080/",
          "height": 725
        },
        "id": "ltTKAiFU_fc_",
        "outputId": "55467387-6188-4c0a-f5b0-6f9d2fe16adf"
      },
      "source": [
        "%%html\n",
        "<iframe\n",
        "  width=\"65%\" height=\"700px\"\n",
        "  src=\"https://portugol-webstudio.cubos.io/ide#url=https://raw.githubusercontent.com/StelmoNetto/IPEE/main/1º%20assunto/4%20-%20ValorDaContaDeAgua.por\"\n",
        "  />"
      ],
      "execution_count": 18,
      "outputs": [
        {
          "output_type": "display_data",
          "data": {
            "text/html": [
              "<iframe\n",
              "  width=\"65%\" height=\"700px\"\n",
              "  src=\"https://portugol-webstudio.cubos.io/ide#url=https://raw.githubusercontent.com/StelmoNetto/IPEE/main/1º%20assunto/4%20-%20ValorDaContaDeAgua.por\"\n",
              "  />"
            ],
            "text/plain": [
              "<IPython.core.display.HTML object>"
            ]
          },
          "metadata": {}
        }
      ]
    },
    {
      "cell_type": "markdown",
      "metadata": {
        "id": "Y7wYptpFBOie"
      },
      "source": [
        "###Exemplo\n",
        "\n",
        "Conversão de tipos nas operações aritméticas e atribuições"
      ]
    },
    {
      "cell_type": "code",
      "metadata": {
        "colab": {
          "base_uri": "https://localhost:8080/",
          "height": 725
        },
        "id": "hjW4snTKBWgr",
        "outputId": "8360304e-ba04-4b5c-fdcf-0ac3b723900d"
      },
      "source": [
        "%%html\n",
        "<iframe\n",
        "  width=\"65%\" height=\"700px\"\n",
        "  src=\"https://portugol-webstudio.cubos.io/ide#url=https://raw.githubusercontent.com/StelmoNetto/IPEE/main/1º%20assunto/5%20-%20convDeTipos.por\"\n",
        "  />"
      ],
      "execution_count": 19,
      "outputs": [
        {
          "output_type": "display_data",
          "data": {
            "text/html": [
              "<iframe\n",
              "  width=\"65%\" height=\"700px\"\n",
              "  src=\"https://portugol-webstudio.cubos.io/ide#url=https://raw.githubusercontent.com/StelmoNetto/IPEE/main/1º%20assunto/5%20-%20convDeTipos.por\"\n",
              "  />"
            ],
            "text/plain": [
              "<IPython.core.display.HTML object>"
            ]
          },
          "metadata": {}
        }
      ]
    },
    {
      "cell_type": "markdown",
      "metadata": {
        "id": "qrQx9B3wBqze"
      },
      "source": [
        "###Prática\n",
        "\n",
        "Dado um único número inteiro de três algarismos N=CDU (onde C é o algarismo das centenas, D é o algarismo das dezenas e U o algarismo das unidades), considere o número inteiro M constituído pelos algarismos de N em ordem inversa, isto é, M = UDC. Gerar M a partir de N."
      ]
    },
    {
      "cell_type": "code",
      "metadata": {
        "colab": {
          "base_uri": "https://localhost:8080/",
          "height": 725
        },
        "id": "EYTKYyrnBxG9",
        "outputId": "d91ac19a-781c-4efd-83a0-e6a5fad33b7a"
      },
      "source": [
        "%%html\n",
        "<iframe\n",
        "  width=\"50%\" height=\"700px\"\n",
        "  src=\"https://portugol-webstudio.cubos.io/ide#url=https://raw.githubusercontent.com/StelmoNetto/IPEE/main/1º%20assunto/6%20-%20cduudc.por\"\n",
        "  />"
      ],
      "execution_count": 22,
      "outputs": [
        {
          "output_type": "display_data",
          "data": {
            "text/html": [
              "<iframe\n",
              "  width=\"50%\" height=\"700px\"\n",
              "  src=\"https://portugol-webstudio.cubos.io/ide#url=https://raw.githubusercontent.com/StelmoNetto/IPEE/main/1º%20assunto/6%20-%20cduudc.por\"\n",
              "  />"
            ],
            "text/plain": [
              "<IPython.core.display.HTML object>"
            ]
          },
          "metadata": {}
        }
      ]
    },
    {
      "cell_type": "markdown",
      "metadata": {
        "id": "tAXdSCXSCBmf"
      },
      "source": [
        "###Prática\n",
        "\n",
        "Escreva o diagrama e **portugol** de cada uma das equações abaixo e exiba-os separados por vírgula:\n",
        "* $a = \\frac{b*c + d} {f}$\n",
        "* $x=\\frac{-b+delta}{2*a}$\n",
        "* $z=a+\\frac{b(c-k)}{a+c}+d$"
      ]
    },
    {
      "cell_type": "code",
      "metadata": {
        "colab": {
          "base_uri": "https://localhost:8080/",
          "height": 525
        },
        "id": "D2bi859YDrkb",
        "outputId": "5b68cf2a-0598-4538-e690-501ad6a0d375"
      },
      "source": [
        "%%html\n",
        "<iframe\n",
        "  width=\"50%\" height=\"500px\"\n",
        "  src=\"https://portugol-webstudio.cubos.io/ide#url=https://raw.githubusercontent.com/StelmoNetto/IPEE/main/1º%20assunto/8%20-%20equacoesSimples.por\"\n",
        "  />"
      ],
      "execution_count": 24,
      "outputs": [
        {
          "output_type": "display_data",
          "data": {
            "text/html": [
              "<iframe\n",
              "  width=\"50%\" height=\"500px\"\n",
              "  src=\"https://portugol-webstudio.cubos.io/ide#url=https://raw.githubusercontent.com/StelmoNetto/IPEE/main/1º%20assunto/8%20-%20equacoesSimples.por\"\n",
              "  />"
            ],
            "text/plain": [
              "<IPython.core.display.HTML object>"
            ]
          },
          "metadata": {}
        }
      ]
    }
  ]
}